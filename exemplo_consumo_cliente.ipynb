{
 "cells": [
  {
   "cell_type": "code",
   "execution_count": 2,
   "id": "a75d3276-c562-4623-b740-827c6e96f558",
   "metadata": {},
   "outputs": [],
   "source": [
    "from core.ckan_api_reader import Ckan"
   ]
  },
  {
   "cell_type": "code",
   "execution_count": 4,
   "id": "c3c327ca-2b94-48c0-8782-11613ad4751a",
   "metadata": {},
   "outputs": [],
   "source": [
    "CKAN_DOMAIN = \"https://repositorio.seade.gov.br/api/3/\""
   ]
  },
  {
   "cell_type": "markdown",
   "id": "5efc9200-37fd-4d60-b0f8-9f61e9464595",
   "metadata": {},
   "source": [
    "## Instanciando o cliente\n",
    "\n",
    "O cliente requer um domínio de CKAN. Esse domínio está no arquivo .env.example\n",
    "\n",
    "Para você conseguir rodar local, apenas dê um \"cp .env.example .env\" em sua máquina que ele configura certinho para o CKAN do Seade."
   ]
  },
  {
   "cell_type": "code",
   "execution_count": 5,
   "id": "0cdb3d28-f092-4caa-ba55-fbf7c038e918",
   "metadata": {},
   "outputs": [],
   "source": [
    "ckan = Ckan(CKAN_DOMAIN)"
   ]
  },
  {
   "cell_type": "code",
   "execution_count": 6,
   "id": "d706c1c8-4701-43f1-8b0d-5046780bd032",
   "metadata": {},
   "outputs": [
    {
     "data": {
      "text/plain": [
       "{'agricultura-municipal',\n",
       " 'anexo-metodologico-populacao',\n",
       " 'anexos-metodologicos-seade-municipios',\n",
       " 'aprovacao-escolar-por-municipio-ano-nivel-de-ensino-e-rede-de-atendimento',\n",
       " 'casamentos',\n",
       " 'cnae-20',\n",
       " 'codigos-nomes-dos-distritos-do-municipio-de-sao-paulo',\n",
       " 'comercio-exterior',\n",
       " 'comercio-exterior-nos-municipios',\n",
       " 'covid-19',\n",
       " 'demografia',\n",
       " 'domicilios-estado-de-sao-paulo',\n",
       " 'economia',\n",
       " 'educacao-basica-painel',\n",
       " 'educacao-do-ensino-superior',\n",
       " 'emprego-formal-2021-painel',\n",
       " 'emprego-formal-ocupacoes',\n",
       " 'emprego-rais-e-arquivos-auxiliares',\n",
       " 'equipamento',\n",
       " 'estabelecimentos-de-saude',\n",
       " 'estatisticas-vitais',\n",
       " 'estatisticas-vitais-microdados',\n",
       " 'ideb',\n",
       " 'indice-paulista-de-desenvolvimento-municipal-ipdm',\n",
       " 'informacoes-municipais',\n",
       " 'infraestrutura-e-meio-ambiente',\n",
       " 'leitos-hospitalares-por-municipio-por-ano',\n",
       " 'limites-e-regioes',\n",
       " 'matriculas-por-municipio-ano-nivel-de-ensino-e-rede-de-atendimento',\n",
       " 'medicos-e-enfermeiros-por-municipio-ano-e-rede-de-atendimento',\n",
       " 'microdados-casamentos',\n",
       " 'microdados-nascidos-vivos',\n",
       " 'microdados-obitos',\n",
       " 'mortalidade-infantil',\n",
       " 'mortalidade-no-estado-de-sao-paulo',\n",
       " 'municipios',\n",
       " 'nascidos-vivos',\n",
       " 'nascidos-vivos-municipio-de-sao-paulo',\n",
       " 'nomes-codigos-municipios-esp',\n",
       " 'obitos',\n",
       " 'obitos-municipio-de-sao-paulo',\n",
       " 'ocupacao-e-rendimento',\n",
       " 'painel-economia-agropecuaria',\n",
       " 'pecuaria-municipal',\n",
       " 'pesquisa-de-cuidados-no-domicilio',\n",
       " 'pib-anual-2002-2020',\n",
       " 'pib-mensal',\n",
       " 'pib-municipal-2002-2020',\n",
       " 'pib-regional',\n",
       " 'pib-trimestral',\n",
       " 'populacao-do-municipio-de-sao-paulo-por-distrito-e-idade-escolar',\n",
       " 'populacao-do-municipio-de-sao-paulo-por-distrito-e-porte-populacional',\n",
       " 'populacao-do-municipio-de-sp-por-distritos',\n",
       " 'populacao-municipal-2010-2022',\n",
       " 'populacao-municipal-por-sexo-e-idade-2010-2021',\n",
       " 'populacao-por-municipio-de-idade-escolar',\n",
       " 'populacao-residente-estado-de-sao-paulo',\n",
       " 'populacao-residente-estado-de-sao-paulo-evolucao',\n",
       " 'populacao-residente-municipio-de-sao-paulo',\n",
       " 'populacao-residente-municipio-de-sao-paulo-evolucao',\n",
       " 'populacao-total-2021-e-idadessimples',\n",
       " 'populacao-urbana-e-rural',\n",
       " 'projecao-da-populacao-do-estado-de-sao-paulo-por-idade-2021',\n",
       " 'projecao-da-populacao-por-municipio-idade-escolar-sexo-e-ano',\n",
       " 'projecao-da-populacao-por-municipio-idade-sexo-e-ano-2010-2021',\n",
       " 'saneamento-estado-de-sao-paulo-e-brasil',\n",
       " 'saude-painel',\n",
       " 'seade-censo-2022',\n",
       " 'seade-fecundidade',\n",
       " 'seade-industria',\n",
       " 'seade-investimentos',\n",
       " 'seade-investimentos-anexos-metodologicos',\n",
       " 'seade-painel',\n",
       " 'seade-trajetorias-ocupacionais',\n",
       " 'social',\n",
       " 'trajetorias-ocupacionais-anexos-metodologicos',\n",
       " 'transferencia-de-renda-painel',\n",
       " 'valor-de-transformacao-industrial-nos-municipios'}"
      ]
     },
     "execution_count": 6,
     "metadata": {},
     "output_type": "execute_result"
    }
   ],
   "source": [
    "ckan.pkgs"
   ]
  },
  {
   "cell_type": "code",
   "execution_count": 7,
   "id": "15c051e4-51b6-4a18-9d59-1b937c158fef",
   "metadata": {},
   "outputs": [],
   "source": [
    "res = ckan('social', search_string='Tipologia', attr='name', how='contains', as_list=True)[0]"
   ]
  },
  {
   "cell_type": "code",
   "execution_count": 8,
   "id": "52d2bf9c-dca2-4c6a-b2c5-16a9d1117898",
   "metadata": {},
   "outputs": [
    {
     "data": {
      "text/plain": [
       "{'cache_last_updated': None,\n",
       " 'cache_url': None,\n",
       " 'created': '2023-01-19T23:46:05.573918',\n",
       " 'datastore_active': False,\n",
       " 'description': 'Tipologia intraurbana por área de ponderação, 2017',\n",
       " 'format': 'ZIP',\n",
       " 'hash': '',\n",
       " 'id': '60659f8e-df7d-44d9-aaeb-fb6ab4f6c7b5',\n",
       " 'last_modified': '2023-01-19T23:46:05.553465',\n",
       " 'metadata_modified': '2023-01-19T23:46:07.578812',\n",
       " 'mimetype': 'application/zip',\n",
       " 'mimetype_inner': None,\n",
       " 'name': 'Tipologia Intraurbana',\n",
       " 'package_id': '2be01068-49cc-4cc1-85b8-38bd867aefc4',\n",
       " 'position': 7,\n",
       " 'resource_type': None,\n",
       " 'size': 5094207,\n",
       " 'state': 'active',\n",
       " 'url': 'https://repositorio.seade.gov.br/dataset/2be01068-49cc-4cc1-85b8-38bd867aefc4/resource/60659f8e-df7d-44d9-aaeb-fb6ab4f6c7b5/download/tipologia_intraurbana.zip',\n",
       " 'url_type': 'upload'}"
      ]
     },
     "execution_count": 8,
     "metadata": {},
     "output_type": "execute_result"
    }
   ],
   "source": [
    "res"
   ]
  },
  {
   "cell_type": "code",
   "execution_count": 9,
   "id": "5720632c-fdf4-4979-ae1f-65bef21f4e31",
   "metadata": {},
   "outputs": [],
   "source": [
    "with open('arquivo.xlsx', 'wb') as f:\n",
    "    f.write(ckan.download_resource(res))"
   ]
  },
  {
   "cell_type": "code",
   "execution_count": 10,
   "id": "c6df85df-3675-4c54-8a65-e30460cbe705",
   "metadata": {},
   "outputs": [],
   "source": [
    "gen = ckan('social', extract=True, parser_params = {'skiprows' : 1})"
   ]
  },
  {
   "cell_type": "code",
   "execution_count": 13,
   "id": "e6973253-8ad2-484b-9c1a-9381dc27c895",
   "metadata": {},
   "outputs": [
    {
     "ename": "StopIteration",
     "evalue": "",
     "output_type": "error",
     "traceback": [
      "\u001b[1;31m---------------------------------------------------------------------------\u001b[0m",
      "\u001b[1;31mStopIteration\u001b[0m                             Traceback (most recent call last)",
      "Cell \u001b[1;32mIn[13], line 1\u001b[0m\n\u001b[1;32m----> 1\u001b[0m \u001b[38;5;28;43mnext\u001b[39;49m\u001b[43m(\u001b[49m\u001b[43mgen\u001b[49m\u001b[43m)\u001b[49m\n",
      "\u001b[1;31mStopIteration\u001b[0m: "
     ]
    }
   ],
   "source": [
    "next(gen)"
   ]
  },
  {
   "cell_type": "code",
   "execution_count": null,
   "id": "d64f1a9e-d17f-45fd-80b5-e4dbfe7e2508",
   "metadata": {},
   "outputs": [],
   "source": []
  }
 ],
 "metadata": {
  "kernelspec": {
   "display_name": "Python 3 (ipykernel)",
   "language": "python",
   "name": "python3"
  },
  "language_info": {
   "codemirror_mode": {
    "name": "ipython",
    "version": 3
   },
   "file_extension": ".py",
   "mimetype": "text/x-python",
   "name": "python",
   "nbconvert_exporter": "python",
   "pygments_lexer": "ipython3",
   "version": "3.11.4"
  }
 },
 "nbformat": 4,
 "nbformat_minor": 5
}
